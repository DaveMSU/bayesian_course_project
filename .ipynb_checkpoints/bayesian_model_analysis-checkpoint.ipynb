{
 "cells": [
  {
   "cell_type": "code",
   "execution_count": 1,
   "id": "32064f84",
   "metadata": {},
   "outputs": [],
   "source": [
    "from matplotlib import pyplot as plt\n",
    "\n",
    "import arviz as az\n",
    "import numpy as np\n",
    "import pandas as pd\n",
    "import pymc3 as pm\n",
    "from sklearn.metrics import mean_squared_error as mse; rmse = lambda *x: mse(*x)**0.5\n",
    "\n",
    "from custome import DataFrameHandler, CrossValSampler, get_Xy, BLinearRegression"
   ]
  },
  {
   "cell_type": "code",
   "execution_count": 2,
   "id": "2f0657ab",
   "metadata": {},
   "outputs": [],
   "source": [
    "# Global const.\n",
    "TRAIN_TO_ALL_DATA_RATION = 8 / 10\n",
    "DROP_COLUMNS = ['sex', 'smoker', 'region']\n",
    "CHECK_COLUMNS = ['female', 'male', 'southwest', 'southeast', 'northwest', 'northeast']\n",
    "STATISTICS_COUNT_COLUMNS = [\n",
    "    'age', 'bmi', 'children', 'charges', 'female', 'male', 'northeast', 'northwest', 'southeast', 'southwest'\n",
    "]"
   ]
  },
  {
   "cell_type": "code",
   "execution_count": 3,
   "id": "9c1e4730",
   "metadata": {},
   "outputs": [],
   "source": [
    "data_handler = DataFrameHandler()\n",
    "\n",
    "# Load all data and shuffle it.\n",
    "df = pd.read_csv('data/insurance.csv')\n",
    "df = df.sample(df.shape[0], random_state=7).reset_index(drop=True)\n",
    "\n",
    "train_len = round(df.shape[0] * TRAIN_TO_ALL_DATA_RATION)\n",
    "\n",
    "# Devide all data to train/test parts.\n",
    "train_df = df.iloc[:train_len]\n",
    "test_df = df.iloc[train_len:]\n",
    "\n",
    "# Prepare data.\n",
    "train_df = data_handler.prepare_dataset(train_df, DROP_COLUMNS, CHECK_COLUMNS)\n",
    "train_statistics = data_handler.count_statistics(train_df, STATISTICS_COUNT_COLUMNS)\n",
    "train_df = data_handler.normalize_dataset(train_df, train_statistics)\n",
    "\n",
    "test_df = data_handler.prepare_dataset(test_df, DROP_COLUMNS, CHECK_COLUMNS)\n",
    "test_df = data_handler.normalize_dataset(test_df, train_statistics)"
   ]
  },
  {
   "cell_type": "code",
   "execution_count": 4,
   "id": "66eb562c",
   "metadata": {},
   "outputs": [],
   "source": [
    "X, y = get_Xy(train_df, target_name=\"charges\")"
   ]
  },
  {
   "cell_type": "code",
   "execution_count": null,
   "id": "efa89551",
   "metadata": {},
   "outputs": [
    {
     "name": "stderr",
     "output_type": "stream",
     "text": [
      "/Users/david-tyuman/py_env/lib/python3.8/site-packages/deprecat/classic.py:215: FutureWarning: In v4.0, pm.sample will return an `arviz.InferenceData` object instead of a `MultiTrace` by default. You can pass return_inferencedata=True or return_inferencedata=False to be safe and silence this warning.\n",
      "  return wrapped_(*args_, **kwargs_)\n",
      "Auto-assigning NUTS sampler...\n",
      "Initializing NUTS using jitter+adapt_diag...\n",
      "Multiprocess sampling (2 chains in 2 jobs)\n",
      "NUTS: [sigma, w]\n"
     ]
    },
    {
     "data": {
      "text/html": [
       "\n",
       "<style>\n",
       "    /* Turns off some styling */\n",
       "    progress {\n",
       "        /* gets rid of default border in Firefox and Opera. */\n",
       "        border: none;\n",
       "        /* Needs to be in here for Safari polyfill so background images work as expected. */\n",
       "        background-size: auto;\n",
       "    }\n",
       "    .progress-bar-interrupted, .progress-bar-interrupted::-webkit-progress-bar {\n",
       "        background: #F44336;\n",
       "    }\n",
       "</style>\n"
      ],
      "text/plain": [
       "<IPython.core.display.HTML object>"
      ]
     },
     "metadata": {},
     "output_type": "display_data"
    },
    {
     "data": {
      "text/html": [
       "\n",
       "    <div>\n",
       "      <progress value='2622' class='' max='6000' style='width:300px; height:20px; vertical-align: middle;'></progress>\n",
       "      43.70% [2622/6000 01:33<02:00 Sampling 2 chains, 0 divergences]\n",
       "    </div>\n",
       "    "
      ],
      "text/plain": [
       "<IPython.core.display.HTML object>"
      ]
     },
     "metadata": {},
     "output_type": "display_data"
    }
   ],
   "source": [
    "train_val_sampler = CrossValSampler(X, y, val_size=300)\n",
    "\n",
    "train, val = train_val_sampler()\n",
    "X_train, y_train = train\n",
    "X_val, y_val = val\n",
    "\n",
    "model = BLinearRegression(chains=2)\n",
    "model.fit(X_train, y_train)"
   ]
  },
  {
   "cell_type": "code",
   "execution_count": null,
   "id": "4975ae82",
   "metadata": {},
   "outputs": [],
   "source": [
    "az.summary(model.trace, round_to=2)"
   ]
  },
  {
   "cell_type": "code",
   "execution_count": null,
   "id": "3b69df5a",
   "metadata": {},
   "outputs": [],
   "source": [
    "az.plot_trace(model.trace, compact=False);"
   ]
  },
  {
   "cell_type": "code",
   "execution_count": null,
   "id": "436b06cc",
   "metadata": {},
   "outputs": [],
   "source": [
    "az.plot_forest(model.trace, hdi_prob=0.95, figsize=(6, 4));"
   ]
  },
  {
   "cell_type": "code",
   "execution_count": null,
   "id": "cc27baca",
   "metadata": {},
   "outputs": [],
   "source": [
    "az.plot_posterior(model.trace, hdi_prob=0.95, figsize=(36, 18), lw=3);"
   ]
  },
  {
   "cell_type": "code",
   "execution_count": null,
   "id": "b3d4d296",
   "metadata": {},
   "outputs": [],
   "source": [
    "# So, it is observed that the model has completely converged!"
   ]
  },
  {
   "cell_type": "code",
   "execution_count": null,
   "id": "498be349",
   "metadata": {},
   "outputs": [],
   "source": []
  },
  {
   "cell_type": "code",
   "execution_count": null,
   "id": "7de4a202",
   "metadata": {},
   "outputs": [],
   "source": [
    "# Let's look in model some deeper."
   ]
  },
  {
   "cell_type": "code",
   "execution_count": null,
   "id": "d241215f",
   "metadata": {},
   "outputs": [],
   "source": [
    "train_val_sampler = CrossValSampler(X, y, val_size=300)\n",
    "\n",
    "train, val = train_val_sampler()\n",
    "X_train, y_train = train\n",
    "X_val, y_val = val\n",
    "\n",
    "model = BLinearRegression()\n",
    "model.fit(X_train, y_train)\n",
    "\n",
    "y_pred = model.predict(X_val)\n",
    "y_conf_pred = model.predict_confidence(X_val)\n",
    "rmse(y_val, y_pred)"
   ]
  },
  {
   "cell_type": "code",
   "execution_count": null,
   "id": "c4756ef0",
   "metadata": {},
   "outputs": [],
   "source": [
    "# Model architecture.\n",
    "pm.model_to_graphviz(model._pm_model)"
   ]
  },
  {
   "cell_type": "code",
   "execution_count": null,
   "id": "23222846",
   "metadata": {},
   "outputs": [],
   "source": [
    "th_median = 0.0965\n",
    "\n",
    "print(len(np.where(y_conf_pred < th_median)[0]) / len(y_conf_pred))  # Shoud be ~0.5~"
   ]
  },
  {
   "cell_type": "code",
   "execution_count": null,
   "id": "ae6ba49c",
   "metadata": {},
   "outputs": [],
   "source": [
    "# Confident prediciton.\n",
    "\n",
    "indexes = np.where(y_conf_pred < th_median)[0]  # 50% left.\n",
    "\n",
    "plt.scatter(np.linspace(0, 1, len(y_val)), y_val, 4.5, label='y_val')\n",
    "plt.scatter(np.linspace(0, 1, len(y_val[indexes])), y_pred[indexes], 30.5, label='y_pred_conf')\n",
    "plt.scatter(np.linspace(0, 1, len(y_val[indexes])), y_val[indexes], 30.5, label='y_val_conf')\n",
    "plt.legend()\n",
    "plt.grid();\n",
    "\n",
    "print('RMSE: %.4f' % rmse(y_val[indexes], y_pred[indexes]))"
   ]
  },
  {
   "cell_type": "code",
   "execution_count": null,
   "id": "4676dcac",
   "metadata": {},
   "outputs": [],
   "source": [
    "# UnConfident prediciton.\n",
    "\n",
    "indexes = np.where(y_conf_pred > th_median)[0]  # 50% right.\n",
    "\n",
    "plt.scatter(np.linspace(0, 1, len(y_val)), y_val, 4.5, label='y_val')\n",
    "plt.scatter(np.linspace(0, 1, len(y_val[indexes])), y_pred[indexes], 30.5, label='y_pred_conf')\n",
    "plt.scatter(np.linspace(0, 1, len(y_val[indexes])), y_val[indexes], 30.5, label='y_val_conf')\n",
    "plt.legend()\n",
    "plt.grid();\n",
    "\n",
    "print('RMSE: %.4f' % rmse(y_val[indexes], y_pred[indexes]))"
   ]
  },
  {
   "cell_type": "code",
   "execution_count": null,
   "id": "a0198f82",
   "metadata": {},
   "outputs": [],
   "source": [
    "# So, we see, that on unconfident samples score worse."
   ]
  },
  {
   "cell_type": "code",
   "execution_count": null,
   "id": "3b8c420a",
   "metadata": {},
   "outputs": [],
   "source": []
  },
  {
   "cell_type": "code",
   "execution_count": null,
   "id": "e2435092",
   "metadata": {},
   "outputs": [],
   "source": [
    "# Let's try to investigate the differences in the distributions of features stratified by the reliability of the model."
   ]
  },
  {
   "cell_type": "code",
   "execution_count": null,
   "id": "f1829f2b",
   "metadata": {},
   "outputs": [],
   "source": [
    "indexes = np.where(y_conf_pred > th_median)[0]\n",
    "\n",
    "train_df.iloc[np.where(y_conf_pred > th_median)[0]].age.hist(bins=10, alpha=0.75, legend='50% most confident')\n",
    "train_df.iloc[np.where(y_conf_pred < th_median)[0]].age.hist(bins=10, alpha=0.75, legend='50% most confident')\n",
    "\n",
    "plt.legend()\n",
    "plt.grid();"
   ]
  },
  {
   "cell_type": "code",
   "execution_count": null,
   "id": "0de531fe",
   "metadata": {},
   "outputs": [],
   "source": [
    "indexes = np.where(y_conf_pred > th_median)[0]\n",
    "\n",
    "train_df.iloc[np.where(y_conf_pred > th_median)[0]].bmi.hist(bins=10, alpha=0.75, legend='50% most confident')\n",
    "train_df.iloc[np.where(y_conf_pred < th_median)[0]].bmi.hist(bins=10, alpha=0.75, legend='50% most confident')\n",
    "\n",
    "plt.legend()\n",
    "plt.grid();"
   ]
  },
  {
   "cell_type": "code",
   "execution_count": null,
   "id": "d7c5e3f3",
   "metadata": {},
   "outputs": [],
   "source": []
  }
 ],
 "metadata": {
  "kernelspec": {
   "display_name": "Python 3 (ipykernel)",
   "language": "python",
   "name": "python3"
  },
  "language_info": {
   "codemirror_mode": {
    "name": "ipython",
    "version": 3
   },
   "file_extension": ".py",
   "mimetype": "text/x-python",
   "name": "python",
   "nbconvert_exporter": "python",
   "pygments_lexer": "ipython3",
   "version": "3.8.2"
  }
 },
 "nbformat": 4,
 "nbformat_minor": 5
}
