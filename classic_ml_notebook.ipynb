{
 "cells": [
  {
   "cell_type": "code",
   "execution_count": 1,
   "id": "32064f84",
   "metadata": {},
   "outputs": [],
   "source": [
    "import typing as tp\n",
    "from matplotlib import pyplot as plt\n",
    "\n",
    "\n",
    "import numpy as np\n",
    "import pandas as pd\n",
    "\n",
    "from tqdm.notebook import tqdm\n",
    "from sklearn.linear_model import LinearRegression\n",
    "from sklearn.model_selection import train_test_split\n",
    "from sklearn.metrics import mean_squared_error as mse; rmse = lambda *x: mse(*x)**0.5\n",
    "\n",
    "\n",
    "from custome import DataFrameHandler, CrossValSampler, get_Xy"
   ]
  },
  {
   "cell_type": "code",
   "execution_count": 2,
   "id": "2f0657ab",
   "metadata": {},
   "outputs": [],
   "source": [
    "# Global const.\n",
    "TRAIN_TO_ALL_DATA_RATION = 8 / 10\n",
    "DROP_COLUMNS = ['sex', 'smoker', 'region']\n",
    "CHECK_COLUMNS = ['female', 'male', 'southwest', 'southeast', 'northwest', 'northeast']\n",
    "STATISTICS_COUNT_COLUMNS = [\n",
    "    'age', 'bmi', 'children', 'charges', 'female', 'male', 'northeast', 'northwest', 'southeast', 'southwest'\n",
    "]"
   ]
  },
  {
   "cell_type": "code",
   "execution_count": 3,
   "id": "9c1e4730",
   "metadata": {},
   "outputs": [],
   "source": [
    "data_handler = DataFrameHandler()\n",
    "\n",
    "# Load all data and shuffle it.\n",
    "df = pd.read_csv('data/insurance.csv')\n",
    "df = df.sample(df.shape[0], random_state=7).reset_index(drop=True)\n",
    "\n",
    "train_len = round(df.shape[0] * TRAIN_TO_ALL_DATA_RATION)\n",
    "\n",
    "# Devide all data to train/test parts.\n",
    "train_df = df.iloc[:train_len]\n",
    "test_df = df.iloc[train_len:]\n",
    "\n",
    "# Prepare data.\n",
    "train_df = data_handler.prepare_dataset(train_df, DROP_COLUMNS, CHECK_COLUMNS)\n",
    "train_statistics = data_handler.count_statistics(train_df, STATISTICS_COUNT_COLUMNS)\n",
    "train_df = data_handler.normalize_dataset(train_df, train_statistics)\n",
    "\n",
    "test_df = data_handler.prepare_dataset(test_df, DROP_COLUMNS, CHECK_COLUMNS)\n",
    "test_df = data_handler.normalize_dataset(test_df, train_statistics)"
   ]
  },
  {
   "cell_type": "code",
   "execution_count": 4,
   "id": "66eb562c",
   "metadata": {},
   "outputs": [],
   "source": [
    "X, y = get_Xy(train_df, target_name=\"charges\")"
   ]
  },
  {
   "cell_type": "code",
   "execution_count": 5,
   "id": "0da308ef",
   "metadata": {},
   "outputs": [],
   "source": [
    "train_val_sampler = CrossValSampler(X, y, val_size=75)"
   ]
  },
  {
   "cell_type": "code",
   "execution_count": 6,
   "id": "ec242fb5",
   "metadata": {},
   "outputs": [
    {
     "data": {
      "application/vnd.jupyter.widget-view+json": {
       "model_id": "e37957b96f0f447780a1f5c9b94067c4",
       "version_major": 2,
       "version_minor": 0
      },
      "text/plain": [
       "  0%|          | 0/14 [00:00<?, ?it/s]"
      ]
     },
     "metadata": {},
     "output_type": "display_data"
    }
   ],
   "source": [
    "history = []\n",
    "for train, val in tqdm(train_val_sampler, total=train_val_sampler.folds_num):\n",
    "    X_train, y_train = train\n",
    "    X_val, y_val = val\n",
    "    model = LinearRegression()\n",
    "    model.fit(X_train, y_train)\n",
    "    y_pred = model.predict(X_val)\n",
    "    score = rmse(y_val, y_pred)\n",
    "    history.append(score)"
   ]
  },
  {
   "cell_type": "code",
   "execution_count": 7,
   "id": "a1c79d90",
   "metadata": {},
   "outputs": [
    {
     "name": "stdout",
     "output_type": "stream",
     "text": [
      "0.9453303423417774\n"
     ]
    },
    {
     "data": {
      "image/png": "[encoded data removed]",
      "text/plain": [
       "<Figure size 432x288 with 1 Axes>"
      ]
     },
     "metadata": {
      "needs_background": "light"
     },
     "output_type": "display_data"
    }
   ],
   "source": [
    "plt.hist(history, bins=8)\n",
    "print(np.mean(history))"
   ]
  },
  {
   "cell_type": "code",
   "execution_count": 8,
   "id": "83811de5",
   "metadata": {},
   "outputs": [],
   "source": [
    "import json\n",
    "\n",
    "with open('data/history_classic.json', 'w') as f:\n",
    "    json.dump(history, f)"
   ]
  },
  {
   "cell_type": "code",
   "execution_count": null,
   "id": "b509fda7",
   "metadata": {},
   "outputs": [],
   "source": []
  },
  {
   "cell_type": "code",
   "execution_count": 9,
   "id": "5ec2fe03",
   "metadata": {},
   "outputs": [
    {
     "data": {
      "text/plain": [
       "0.9334084192241145"
      ]
     },
     "execution_count": 9,
     "metadata": {},
     "output_type": "execute_result"
    }
   ],
   "source": [
    "train_val_sampler = CrossValSampler(X, y, val_size=300)\n",
    "\n",
    "train, val = train_val_sampler()\n",
    "X_train, y_train = train\n",
    "X_val, y_val = val\n",
    "\n",
    "model = LinearRegression()\n",
    "model.fit(X_train, y_train)\n",
    "\n",
    "y_pred = model.predict(X_val)\n",
    "rmse(y_val, y_pred)"
   ]
  },
  {
   "cell_type": "code",
   "execution_count": 10,
   "id": "492a2bd8",
   "metadata": {},
   "outputs": [
    {
     "data": {
      "image/png": "[encoded data removed]",
      "text/plain": [
       "<Figure size 432x288 with 1 Axes>"
      ]
     },
     "metadata": {
      "needs_background": "light"
     },
     "output_type": "display_data"
    }
   ],
   "source": [
    "plt.scatter(range(len(y_val)), y_val, 4.5, label='y_val')\n",
    "plt.scatter(range(len(y_val)), y_pred, 4.5, label='y_pred')\n",
    "plt.legend()\n",
    "plt.grid();"
   ]
  },
  {
   "cell_type": "code",
   "execution_count": 11,
   "id": "95ef4566",
   "metadata": {},
   "outputs": [
    {
     "name": "stdout",
     "output_type": "stream",
     "text": [
      "0.2326\n",
      "0.1811\n",
      "0.0422\n",
      "3230213507007.5879\n",
      "3230213507007.6377\n",
      "40252961818141.6641\n",
      "40144642422642.7734\n",
      "41892868117024.1719\n",
      "41032094976722.2969\n"
     ]
    }
   ],
   "source": [
    "for w in model.coef_:\n",
    "    print(\"%.4f\" % w)"
   ]
  },
  {
   "cell_type": "code",
   "execution_count": null,
   "id": "797550ab",
   "metadata": {},
   "outputs": [],
   "source": []
  },
  {
   "cell_type": "code",
   "execution_count": 12,
   "id": "c53c53d7",
   "metadata": {},
   "outputs": [],
   "source": [
    "X_test, y_test = get_Xy(test_df, target_name=\"charges\")"
   ]
  },
  {
   "cell_type": "code",
   "execution_count": 13,
   "id": "e4e2621a",
   "metadata": {},
   "outputs": [],
   "source": [
    "model = LinearRegression()\n",
    "model.fit(X, y)\n",
    "y_pred = model.predict(X_test)"
   ]
  },
  {
   "cell_type": "code",
   "execution_count": 14,
   "id": "1c96e266",
   "metadata": {},
   "outputs": [
    {
     "data": {
      "text/plain": [
       "0.8819350790631854"
      ]
     },
     "execution_count": 14,
     "metadata": {},
     "output_type": "execute_result"
    }
   ],
   "source": [
    "score = rmse(y_test, y_pred)\n",
    "score"
   ]
  },
  {
   "cell_type": "code",
   "execution_count": 15,
   "id": "27df62d6",
   "metadata": {},
   "outputs": [],
   "source": [
    "with open('data/classic_y_test_prediction.json', 'w') as f:\n",
    "    json.dump(list(y_pred), f)"
   ]
  },
  {
   "cell_type": "code",
   "execution_count": null,
   "id": "1c85b323",
   "metadata": {},
   "outputs": [],
   "source": []
  }
 ],
 "metadata": {
  "kernelspec": {
   "display_name": "Python 3 (ipykernel)",
   "language": "python",
   "name": "python3"
  },
  "language_info": {
   "codemirror_mode": {
    "name": "ipython",
    "version": 3
   },
   "file_extension": ".py",
   "mimetype": "text/x-python",
   "name": "python",
   "nbconvert_exporter": "python",
   "pygments_lexer": "ipython3",
   "version": "3.8.2"
  }
 },
 "nbformat": 4,
 "nbformat_minor": 5
}
