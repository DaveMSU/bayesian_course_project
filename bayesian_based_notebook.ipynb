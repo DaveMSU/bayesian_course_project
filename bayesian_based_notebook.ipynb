{
 "cells": [
  {
   "cell_type": "code",
   "execution_count": 1,
   "id": "32064f84",
   "metadata": {},
   "outputs": [],
   "source": [
    "import typing as tp\n",
    "from matplotlib import pyplot as plt\n",
    "\n",
    "import arviz as az\n",
    "import numpy as np\n",
    "import pandas as pd\n",
    "import pymc3 as pm\n",
    "from sklearn.linear_model import LinearRegression\n",
    "from sklearn.model_selection import train_test_split\n",
    "from sklearn.metrics import mean_squared_error as mse; rmse = lambda *x: mse(*x)**0.5\n",
    "from tqdm.notebook import tqdm\n",
    "\n",
    "from custome import DataFrameHandler, CrossValSampler, get_Xy, BLinearRegression"
   ]
  },
  {
   "cell_type": "code",
   "execution_count": 2,
   "id": "2f0657ab",
   "metadata": {},
   "outputs": [],
   "source": [
    "# Global const.\n",
    "TRAIN_TO_ALL_DATA_RATION = 8 / 10\n",
    "DROP_COLUMNS = ['sex', 'smoker', 'region']\n",
    "CHECK_COLUMNS = ['female', 'male', 'southwest', 'southeast', 'northwest', 'northeast']\n",
    "STATISTICS_COUNT_COLUMNS = [\n",
    "    'age', 'bmi', 'children', 'charges', 'female', 'male', 'northeast', 'northwest', 'southeast', 'southwest'\n",
    "]"
   ]
  },
  {
   "cell_type": "code",
   "execution_count": 5,
   "id": "9c1e4730",
   "metadata": {},
   "outputs": [],
   "source": [
    "data_handler = DataFrameHandler()\n",
    "\n",
    "# Load all data and shuffle it.\n",
    "df = pd.read_csv('data/insurance.csv')\n",
    "df = df.sample(df.shape[0], random_state=7).reset_index(drop=True)\n",
    "\n",
    "train_len = round(df.shape[0] * TRAIN_TO_ALL_DATA_RATION)\n",
    "\n",
    "# Devide all data to train/test parts.\n",
    "train_df = df.iloc[:train_len]\n",
    "test_df = df.iloc[train_len:]\n",
    "\n",
    "# Prepare data.\n",
    "train_df = data_handler.prepare_dataset(train_df, DROP_COLUMNS, CHECK_COLUMNS)\n",
    "train_statistics = data_handler.count_statistics(train_df, STATISTICS_COUNT_COLUMNS)\n",
    "train_df = data_handler.normalize_dataset(train_df, train_statistics)\n",
    "\n",
    "test_df = data_handler.prepare_dataset(test_df, DROP_COLUMNS, CHECK_COLUMNS)\n",
    "test_df = data_handler.normalize_dataset(test_df, train_statistics)"
   ]
  },
  {
   "cell_type": "code",
   "execution_count": 6,
   "id": "66eb562c",
   "metadata": {},
   "outputs": [],
   "source": [
    "X, y = get_Xy(train_df, target_name=\"charges\")"
   ]
  },
  {
   "cell_type": "code",
   "execution_count": 7,
   "id": "414a49b8",
   "metadata": {},
   "outputs": [],
   "source": [
    "train_val_sampler = CrossValSampler(X, y, val_size=75)"
   ]
  },
  {
   "cell_type": "code",
   "execution_count": null,
   "id": "bab71c8d",
   "metadata": {},
   "outputs": [
    {
     "data": {
      "application/vnd.jupyter.widget-view+json": {
       "model_id": "3773246f67bd49288e5ab5b001e5509f",
       "version_major": 2,
       "version_minor": 0
      },
      "text/plain": [
       "  0%|          | 0/14 [00:00<?, ?it/s]"
      ]
     },
     "metadata": {},
     "output_type": "display_data"
    },
    {
     "name": "stderr",
     "output_type": "stream",
     "text": [
      "/Users/david-tyuman/py_env/lib/python3.8/site-packages/deprecat/classic.py:215: FutureWarning: In v4.0, pm.sample will return an `arviz.InferenceData` object instead of a `MultiTrace` by default. You can pass return_inferencedata=True or return_inferencedata=False to be safe and silence this warning.\n",
      "  return wrapped_(*args_, **kwargs_)\n",
      "Auto-assigning NUTS sampler...\n",
      "Initializing NUTS using jitter+adapt_diag...\n",
      "Sequential sampling (1 chains in 1 job)\n",
      "NUTS: [sigma, w]\n"
     ]
    },
    {
     "data": {
      "text/html": [
       "\n",
       "<style>\n",
       "    /* Turns off some styling */\n",
       "    progress {\n",
       "        /* gets rid of default border in Firefox and Opera. */\n",
       "        border: none;\n",
       "        /* Needs to be in here for Safari polyfill so background images work as expected. */\n",
       "        background-size: auto;\n",
       "    }\n",
       "    .progress-bar-interrupted, .progress-bar-interrupted::-webkit-progress-bar {\n",
       "        background: #F44336;\n",
       "    }\n",
       "</style>\n"
      ],
      "text/plain": [
       "<IPython.core.display.HTML object>"
      ]
     },
     "metadata": {},
     "output_type": "display_data"
    },
    {
     "data": {
      "text/html": [
       "\n",
       "    <div>\n",
       "      <progress value='6000' class='' max='6000' style='width:300px; height:20px; vertical-align: middle;'></progress>\n",
       "      100.00% [6000/6000 08:40<00:00 Sampling chain 0, 0 divergences]\n",
       "    </div>\n",
       "    "
      ],
      "text/plain": [
       "<IPython.core.display.HTML object>"
      ]
     },
     "metadata": {},
     "output_type": "display_data"
    },
    {
     "name": "stderr",
     "output_type": "stream",
     "text": [
      "Sampling 1 chain for 1_000 tune and 5_000 draw iterations (1_000 + 5_000 draws total) took 520 seconds.\n",
      "Only one chain was sampled, this makes it impossible to run some convergence checks\n",
      "/Users/david-tyuman/py_env/lib/python3.8/site-packages/deprecat/classic.py:215: FutureWarning: In v4.0, pm.sample will return an `arviz.InferenceData` object instead of a `MultiTrace` by default. You can pass return_inferencedata=True or return_inferencedata=False to be safe and silence this warning.\n",
      "  return wrapped_(*args_, **kwargs_)\n",
      "Auto-assigning NUTS sampler...\n",
      "Initializing NUTS using jitter+adapt_diag...\n",
      "Sequential sampling (1 chains in 1 job)\n",
      "NUTS: [sigma, w]\n"
     ]
    },
    {
     "data": {
      "text/html": [
       "\n",
       "<style>\n",
       "    /* Turns off some styling */\n",
       "    progress {\n",
       "        /* gets rid of default border in Firefox and Opera. */\n",
       "        border: none;\n",
       "        /* Needs to be in here for Safari polyfill so background images work as expected. */\n",
       "        background-size: auto;\n",
       "    }\n",
       "    .progress-bar-interrupted, .progress-bar-interrupted::-webkit-progress-bar {\n",
       "        background: #F44336;\n",
       "    }\n",
       "</style>\n"
      ],
      "text/plain": [
       "<IPython.core.display.HTML object>"
      ]
     },
     "metadata": {},
     "output_type": "display_data"
    },
    {
     "data": {
      "text/html": [
       "\n",
       "    <div>\n",
       "      <progress value='6000' class='' max='6000' style='width:300px; height:20px; vertical-align: middle;'></progress>\n",
       "      100.00% [6000/6000 08:06<00:00 Sampling chain 0, 0 divergences]\n",
       "    </div>\n",
       "    "
      ],
      "text/plain": [
       "<IPython.core.display.HTML object>"
      ]
     },
     "metadata": {},
     "output_type": "display_data"
    },
    {
     "name": "stderr",
     "output_type": "stream",
     "text": [
      "Sampling 1 chain for 1_000 tune and 5_000 draw iterations (1_000 + 5_000 draws total) took 487 seconds.\n",
      "Only one chain was sampled, this makes it impossible to run some convergence checks\n",
      "/Users/david-tyuman/py_env/lib/python3.8/site-packages/deprecat/classic.py:215: FutureWarning: In v4.0, pm.sample will return an `arviz.InferenceData` object instead of a `MultiTrace` by default. You can pass return_inferencedata=True or return_inferencedata=False to be safe and silence this warning.\n",
      "  return wrapped_(*args_, **kwargs_)\n",
      "Auto-assigning NUTS sampler...\n",
      "Initializing NUTS using jitter+adapt_diag...\n",
      "Sequential sampling (1 chains in 1 job)\n",
      "NUTS: [sigma, w]\n"
     ]
    },
    {
     "data": {
      "text/html": [
       "\n",
       "<style>\n",
       "    /* Turns off some styling */\n",
       "    progress {\n",
       "        /* gets rid of default border in Firefox and Opera. */\n",
       "        border: none;\n",
       "        /* Needs to be in here for Safari polyfill so background images work as expected. */\n",
       "        background-size: auto;\n",
       "    }\n",
       "    .progress-bar-interrupted, .progress-bar-interrupted::-webkit-progress-bar {\n",
       "        background: #F44336;\n",
       "    }\n",
       "</style>\n"
      ],
      "text/plain": [
       "<IPython.core.display.HTML object>"
      ]
     },
     "metadata": {},
     "output_type": "display_data"
    },
    {
     "data": {
      "text/html": [
       "\n",
       "    <div>\n",
       "      <progress value='2004' class='' max='6000' style='width:300px; height:20px; vertical-align: middle;'></progress>\n",
       "      33.40% [2004/6000 02:20<04:40 Sampling chain 0, 0 divergences]\n",
       "    </div>\n",
       "    "
      ],
      "text/plain": [
       "<IPython.core.display.HTML object>"
      ]
     },
     "metadata": {},
     "output_type": "display_data"
    }
   ],
   "source": [
    "history = []\n",
    "for train, val in tqdm(train_val_sampler, total=train_val_sampler.folds_num):\n",
    "    X_train, y_train = train\n",
    "    X_val, y_val = val\n",
    "    model = BLinearRegression(5000)\n",
    "    model.fit(X_train, y_train)\n",
    "    y_pred = model.predict(X_val)\n",
    "    score = rmse(y_val, y_pred)\n",
    "    history.append(score)"
   ]
  },
  {
   "cell_type": "code",
   "execution_count": null,
   "id": "b2b8d585",
   "metadata": {},
   "outputs": [],
   "source": [
    "import json\n",
    "\n",
    "with open('data/history_classic.json', 'r') as f:\n",
    "    history_classic = json.load(f)"
   ]
  },
  {
   "cell_type": "code",
   "execution_count": null,
   "id": "328287e1",
   "metadata": {},
   "outputs": [],
   "source": [
    "plt.hist(history, bins=8)\n",
    "print('mean RMSE of baysian model: %4f' % np.mean(history))"
   ]
  },
  {
   "cell_type": "code",
   "execution_count": null,
   "id": "5e5dc64b",
   "metadata": {},
   "outputs": [],
   "source": [
    "import scipy \n",
    "\n",
    "print(scipy.stats.ttest_rel(history, history_classic), end='\\n\\n')\n",
    "print('{:.4}% scores of bayesian model less than classic one!'.format(\n",
    "        100 * np.mean([history[i] < history_classic[i] for i in range(14)])\n",
    "    ))"
   ]
  },
  {
   "cell_type": "code",
   "execution_count": null,
   "id": "5ac1829b",
   "metadata": {},
   "outputs": [],
   "source": []
  },
  {
   "cell_type": "code",
   "execution_count": null,
   "id": "11e12512",
   "metadata": {},
   "outputs": [],
   "source": [
    "train_val_sampler = CrossValSampler(X, y, val_size=300)\n",
    "\n",
    "train, val = train_val_sampler()\n",
    "X_train, y_train = train\n",
    "X_val, y_val = val\n",
    "\n",
    "model = BLinearRegression(draws=5000)\n",
    "model.fit(X_train, y_train)\n",
    "\n",
    "y_pred = model.predict(X_val)\n",
    "rmse(y_val, y_pred)"
   ]
  },
  {
   "cell_type": "code",
   "execution_count": null,
   "id": "28d1a0b1",
   "metadata": {},
   "outputs": [],
   "source": [
    "plt.scatter(range(len(y_val)), y_val, 4.5, label='y_val')\n",
    "plt.scatter(range(len(y_val)), y_pred, 4.5, label='y_pred')\n",
    "plt.legend()\n",
    "plt.grid();"
   ]
  },
  {
   "cell_type": "code",
   "execution_count": null,
   "id": "2e5f3569",
   "metadata": {},
   "outputs": [],
   "source": [
    "X_test, y_test = get_Xy(test_df, target_name=\"charges\")"
   ]
  },
  {
   "cell_type": "code",
   "execution_count": null,
   "id": "c9f6ad98",
   "metadata": {},
   "outputs": [],
   "source": [
    "model = BLinearRegression(draws=5000)\n",
    "model.fit(X, y)"
   ]
  },
  {
   "cell_type": "code",
   "execution_count": null,
   "id": "3c310096",
   "metadata": {},
   "outputs": [],
   "source": [
    "y_pred = model.predict(X_test)"
   ]
  },
  {
   "cell_type": "code",
   "execution_count": null,
   "id": "09028ae2",
   "metadata": {},
   "outputs": [],
   "source": [
    "rmse(y_test, y_pred)  # Current model (bayesian) score."
   ]
  },
  {
   "cell_type": "code",
   "execution_count": null,
   "id": "958a8906",
   "metadata": {},
   "outputs": [],
   "source": [
    "with open('data/classic_y_test_prediction.json', 'r') as f:\n",
    "    y_classic_pred = np.array(json.load(f))"
   ]
  },
  {
   "cell_type": "code",
   "execution_count": null,
   "id": "9d91c882",
   "metadata": {},
   "outputs": [],
   "source": [
    "rmse(y_test, y_classic_pred)  # Classic linear model (from sklearn) score."
   ]
  },
  {
   "cell_type": "code",
   "execution_count": null,
   "id": "f2675318",
   "metadata": {},
   "outputs": [],
   "source": [
    "abs_diff_for_each = np.abs(y_test - y_pred)\n",
    "abs_diff_for_each__classic = np.abs(y_test - y_classic_pred)\n",
    "\n",
    "scipy.stats.ttest_rel(\n",
    "    abs_diff_for_each,\n",
    "    abs_diff_for_each__classic\n",
    ")"
   ]
  },
  {
   "cell_type": "code",
   "execution_count": null,
   "id": "0daeb08b",
   "metadata": {},
   "outputs": [],
   "source": [
    "print('{:.4}% scores of bayesian model less than classic one!'.format(\n",
    "    np.mean(abs_diff_for_each < abs_diff_for_each__classic) * 100\n",
    "))"
   ]
  },
  {
   "cell_type": "code",
   "execution_count": null,
   "id": "d07d2338",
   "metadata": {},
   "outputs": [],
   "source": []
  }
 ],
 "metadata": {
  "kernelspec": {
   "display_name": "Python 3 (ipykernel)",
   "language": "python",
   "name": "python3"
  },
  "language_info": {
   "codemirror_mode": {
    "name": "ipython",
    "version": 3
   },
   "file_extension": ".py",
   "mimetype": "text/x-python",
   "name": "python",
   "nbconvert_exporter": "python",
   "pygments_lexer": "ipython3",
   "version": "3.8.2"
  }
 },
 "nbformat": 4,
 "nbformat_minor": 5
}
